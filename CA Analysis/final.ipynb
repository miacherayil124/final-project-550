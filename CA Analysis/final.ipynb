{
 "cells": [
  {
   "cell_type": "markdown",
   "id": "a48145ef",
   "metadata": {},
   "source": [
    "# Electric Vechicle Charging Stations in California\n",
    "\n",
    "### MUSA 550: Geospatial Data Science in Python | Myron Bañez, Mia Cherayil, Kendra Hills\n",
    "\n",
    "### In further refining our analysis, we will look at EV charging stations in the state of California. The data is taken from the U.S. Department of Energy, where we further filtered down the dataset to California, and fuel type electric.\n",
    "\n",
    "#### Data sources: \n",
    "- https://afdc.energy.gov/fuels/electricity_locations.html#/analyze?fuel=ELEC\n",
    "- https://data.ca.gov/dataset/ca-geographic-boundaries\n",
    "- https://geohub.lacity.org/datasets/lacounty::hud-qualified-census-tracts-2022/explore"
   ]
  },
  {
   "cell_type": "markdown",
   "id": "279e43f2",
   "metadata": {},
   "source": [
    "## Importing station and city data\n",
    "\n",
    "### Our EV data and city shapefiles are imported into notebook, where we further clean our EV station data."
   ]
  },
  {
   "cell_type": "code",
   "execution_count": null,
   "id": "17f89aac",
   "metadata": {},
   "outputs": [],
   "source": [
    "import geopandas as gpd\n",
    "import pandas as pd\n",
    "import numpy as np\n",
    "from shapely.geometry import Point\n",
    "import geoviews as gv\n",
    "import geoviews.tile_sources as gvts\n",
    "from matplotlib import pyplot as plt\n",
    "import seaborn as sns\n",
    "\n",
    "import time \n",
    "import hvplot.pandas\n",
    "import holoviews as hv\n",
    "import esri2gpd\n",
    "import carto2gpd\n",
    "import cenpy\n",
    "pd.options.display.max_columns = 999\n",
    "\n",
    "colors2 = ['#5ebaff', '#00faf4', '#ffffcc', '#ffe775', '#ffc140', '#ff8f20', '#ff6060']"
   ]
  },
  {
   "cell_type": "code",
   "execution_count": null,
   "id": "1b8f9360",
   "metadata": {},
   "outputs": [],
   "source": [
    "stations = pd.read_csv(\"stations.csv\")\n",
    "\n",
    "stations"
   ]
  },
  {
   "cell_type": "code",
   "execution_count": null,
   "id": "c20e5119",
   "metadata": {},
   "outputs": [],
   "source": [
    "stations_df = stations.drop(['Intersection Directions', 'Plus4', 'Expected Date', 'Cards Accepted', 'BD Blends', \n",
    "                               'NG Fill Type Code', 'NG PSI', 'EV Level1 EVSE Num', 'EV Other Info', 'EV Network Web', 'Federal Agency ID', 'Federal Agency Name', 'Hydrogen Status Link',\n",
    "                               'NG Vehicle Class', 'LPG Primary', 'E85 Blender Pump', 'Intersection Directions (French)',\n",
    "                               'Access Days Time (French)', 'Groups With Access Code (French)', 'Hydrogen Is Retail',\n",
    "                               'Access Code', 'Access Detail Code', 'Federal Agency Code', \"Facility Type\",\n",
    "                               'CNG Dispenser Num', 'CNG On-Site Renewable Source', 'CNG Total Compression Capacity', 'CNG Storage Capacity', \n",
    "                               'LNG On-Site Renewable Source', 'E85 Other Ethanol Blends', 'EV Pricing', 'EV Pricing (French)',\n",
    "                               'LPG Nozzle Types', 'Hydrogen Pressures', 'Hydrogen Standards', 'CNG Fill Type Code', 'CNG PSI', \n",
    "                               'CNG Vehicle Class', 'LNG Vehicle Class', 'EV On-Site Renewable Source', 'Restricted Access', 'BD Blends (French)'], axis=1)\n",
    "stations_df"
   ]
  },
  {
   "cell_type": "code",
   "execution_count": null,
   "id": "267c17b4",
   "metadata": {},
   "outputs": [],
   "source": [
    "city = gpd.read_file(\"./places/CA_Places_TIGER2016.shp\")\n",
    "city\n",
    "\n",
    "city_df = city.rename(columns = {'NAME': 'City'}, inplace=True)"
   ]
  },
  {
   "cell_type": "markdown",
   "id": "c5114f86",
   "metadata": {},
   "source": [
    "# Data Wrangling"
   ]
  },
  {
   "cell_type": "markdown",
   "id": "ea84326f",
   "metadata": {},
   "source": [
    "### We then merge the EV station data with the cities and adding a \"count\" column with a value of 1 in order to add a numeric value to the analysis."
   ]
  },
  {
   "cell_type": "code",
   "execution_count": null,
   "id": "e8663cd8",
   "metadata": {},
   "outputs": [],
   "source": [
    "station_gdf = city.merge(stations_df, on='City')\n",
    "station_gdf = station_gdf.to_crs(epsg=4326)\n",
    "station_gdf['Count'] = 1\n",
    "\n",
    "station_gdf"
   ]
  },
  {
   "cell_type": "markdown",
   "id": "bc5eecf0",
   "metadata": {},
   "source": [
    "# Exploratory Analysis\n",
    "\n",
    "### This exploratory analysis will look at: count of stations by city, count of EV level 2 charging stations, and a further look at stations in Los Angeles.\n",
    "\n",
    "### The data for the first two analyses is converted from wide to tidy then gathered by the number of stations by city. This data is merged with a prior dataset to retrieve the geometry. To refrain from duplicates, we utilize idxmax then further plot these with hvplot.\n",
    "\n",
    "### The workflow for stations in Los Angeles is similar to the aforementioned process but includes the additional steps of filtering down to Los Angeles, and merging on street address in order to also see the number of stations by location in the city. This also includes an overlay of HUD qualifying census tracts."
   ]
  },
  {
   "cell_type": "markdown",
   "id": "9f91772d",
   "metadata": {},
   "source": [
    "## Count of stations by city"
   ]
  },
  {
   "cell_type": "code",
   "execution_count": null,
   "id": "4406f31a",
   "metadata": {},
   "outputs": [],
   "source": [
    "#Make the Data Tidy\n",
    "stations_count = pd.melt(\n",
    "    station_gdf, \n",
    "    id_vars=[\"City\",\"Open Year\",\"geometry\"],\n",
    "    value_vars=[\"Count\"],\n",
    "    value_name=\"Value\", \n",
    "    var_name=\"Station_Count\"\n",
    ")\n",
    "\n",
    "stations_count"
   ]
  },
  {
   "cell_type": "code",
   "execution_count": null,
   "id": "b965bd72",
   "metadata": {},
   "outputs": [],
   "source": [
    "#Count by zip code\n",
    "stations_count_df = stations_count.groupby(['City'])[\"Value\"].sum().reset_index(name='n')\n",
    "stations_count_df"
   ]
  },
  {
   "cell_type": "code",
   "execution_count": null,
   "id": "26823d3d",
   "metadata": {},
   "outputs": [],
   "source": [
    "stations_count_df_1 = stations_count.merge(stations_count_df, on='City')\n",
    "stations_count_df_1"
   ]
  },
  {
   "cell_type": "code",
   "execution_count": null,
   "id": "501ba8e4",
   "metadata": {},
   "outputs": [],
   "source": [
    "stations_count_df_2 = stations_count_df_1.loc[stations_count_df_1.groupby(['City'])['n'].idxmax()]\n",
    "stations_count_df_2[250:300]"
   ]
  },
  {
   "cell_type": "code",
   "execution_count": null,
   "id": "28ac1f2a",
   "metadata": {},
   "outputs": [],
   "source": [
    "choro = stations_count_df_2.hvplot(c='n',\n",
    "                                 width=1500, \n",
    "                                 height=1500, \n",
    "                                 alpha=0.5, \n",
    "                                 geo=True, \n",
    "                                 cmap=colors2, \n",
    "                                 hover_cols=['City'])\n",
    "\n",
    "gvts.CartoDark * choro"
   ]
  },
  {
   "cell_type": "markdown",
   "id": "583fc3e2",
   "metadata": {},
   "source": [
    "### Count of stations by city with EV2 charging stations"
   ]
  },
  {
   "cell_type": "code",
   "execution_count": null,
   "id": "4f145fa4",
   "metadata": {},
   "outputs": [],
   "source": [
    "stations_ev2 = pd.melt(\n",
    "    station_gdf, \n",
    "    id_vars=[\"EV Level2 EVSE Num\", \"City\", \"geometry\"],\n",
    "    value_vars=[\"Count\"],\n",
    "    value_name=\"Value\", \n",
    "    var_name=\"Type\"\n",
    ")\n",
    "\n",
    "stations_ev2"
   ]
  },
  {
   "cell_type": "code",
   "execution_count": null,
   "id": "02f09fd3",
   "metadata": {},
   "outputs": [],
   "source": [
    "stations_ev2_df = stations_ev2.groupby(['City','EV Level2 EVSE Num'])[\"Value\"].sum().reset_index(name='n')\n",
    "stations_ev2_df"
   ]
  },
  {
   "cell_type": "code",
   "execution_count": null,
   "id": "7f414a93",
   "metadata": {},
   "outputs": [],
   "source": [
    "stations_ev2_df_1 = stations_ev2.merge(stations_ev2_df, on='City')\n",
    "stations_ev2_df_1"
   ]
  },
  {
   "cell_type": "code",
   "execution_count": null,
   "id": "8ac4f2d9",
   "metadata": {},
   "outputs": [],
   "source": [
    "stations_ev2_df_2 = stations_ev2_df_1.loc[stations_ev2_df_1.groupby(['City'])['n'].idxmax()]\n",
    "stations_ev2_df_2"
   ]
  },
  {
   "cell_type": "code",
   "execution_count": null,
   "id": "e1058c15",
   "metadata": {},
   "outputs": [],
   "source": [
    "choro2 = stations_ev2_df_2.hvplot(c='n',\n",
    "                                 width=1500, \n",
    "                                 height=1500, \n",
    "                                 alpha=0.5, \n",
    "                                 geo=True, \n",
    "                                 cmap=colors2, \n",
    "                                 hover_cols=['City'])\n",
    "\n",
    "gvts.CartoDark * choro2"
   ]
  },
  {
   "cell_type": "markdown",
   "id": "c3eb9cee",
   "metadata": {},
   "source": [
    "### Stations in Los Angeles"
   ]
  },
  {
   "cell_type": "code",
   "execution_count": null,
   "id": "c8951b79",
   "metadata": {},
   "outputs": [],
   "source": [
    "studyarea = [\n",
    "    \"Los Angeles\"\n",
    "]\n",
    "\n",
    "station_gfd_1 = station_gdf.query(\"City in @studyarea\")\n",
    "\n",
    "station_gfd_1['geometry'] = gpd.points_from_xy(station_gfd_1['Longitude'], station_gfd_1['Latitude'])\n",
    "station_gfd_1 = gpd.GeoDataFrame(station_gfd_1, geometry='geometry', crs=\"EPSG:4326\")\n",
    "station_gfd_1"
   ]
  },
  {
   "cell_type": "code",
   "execution_count": null,
   "id": "e0e56b87",
   "metadata": {},
   "outputs": [],
   "source": [
    "stations_la = pd.melt(\n",
    "    station_gfd_1, \n",
    "    id_vars=[\"Street Address\",\"City\", \"geometry\"],\n",
    "    value_vars=[\"Count\"],\n",
    "    value_name=\"Value\", \n",
    "    var_name=\"Type\"\n",
    ")\n",
    "\n",
    "stations_la[:50]"
   ]
  },
  {
   "cell_type": "code",
   "execution_count": null,
   "id": "53b8fd7c",
   "metadata": {},
   "outputs": [],
   "source": [
    "stations_la_df = stations_la.groupby(['Street Address'])[\"Value\"].sum().reset_index(name='n')\n",
    "stations_la_df"
   ]
  },
  {
   "cell_type": "code",
   "execution_count": null,
   "id": "7fb767c3",
   "metadata": {},
   "outputs": [],
   "source": [
    "stations_la_df_1 = stations_la.merge(stations_la_df, on='Street Address')\n",
    "stations_la_df_1"
   ]
  },
  {
   "cell_type": "code",
   "execution_count": null,
   "id": "b8194924",
   "metadata": {},
   "outputs": [],
   "source": [
    "stations_la_df_2 = stations_la_df_1.loc[stations_la_df_1.groupby(['Street Address'])['n'].idxmax()]\n",
    "stations_la_df_2"
   ]
  },
  {
   "cell_type": "code",
   "execution_count": null,
   "id": "3eddc4e3",
   "metadata": {},
   "outputs": [],
   "source": [
    "choro3 = stations_la_df_2.hvplot.points(c='n',\n",
    "                                 width=1500, \n",
    "                                 height=1500, \n",
    "                                 alpha=0.5, \n",
    "                                 geo=True, \n",
    "                                 cmap=colors2, \n",
    "                                 hover_cols=['Street Address'])\n",
    "\n",
    "gvts.CartoDark * choro3"
   ]
  },
  {
   "cell_type": "code",
   "execution_count": null,
   "id": "6e616ad2",
   "metadata": {},
   "outputs": [],
   "source": [
    "qct = gpd.read_file(\"./qct/HUD_Qualified_Census_Tracts_2022.shp\")\n",
    "qct = qct.to_crs(epsg=4326)\n",
    "\n",
    "qct_yes = [\n",
    "    \"Yes\"\n",
    "]\n",
    "\n",
    "qct_LA = qct.query(\"HUD_QCT in @qct_yes\")\n",
    "qct_LA\n",
    "\n",
    "choro4 = qct_LA.hvplot(c='OBJECTID', \n",
    "                             width=1500, \n",
    "                             height=1500, \n",
    "                             alpha=0.5, \n",
    "                             geo=True,\n",
    "                             color= '#ffffcc', \n",
    "                             hover_cols=['TRACTE'])\n"
   ]
  },
  {
   "cell_type": "code",
   "execution_count": null,
   "id": "7f90ef1d",
   "metadata": {},
   "outputs": [],
   "source": [
    "gvts.CartoDark * choro4 * choro3"
   ]
  },
  {
   "cell_type": "markdown",
   "id": "caf37cb0",
   "metadata": {},
   "source": [
    "### Stations by Year"
   ]
  },
  {
   "cell_type": "code",
   "execution_count": null,
   "id": "b76a5841",
   "metadata": {},
   "outputs": [],
   "source": [
    "station_year = station_gdf.loc[station_gdf[\"Open Year\"] >2013]\n",
    "station_year\n",
    "\n",
    "station_year = pd.melt(\n",
    "    station_year, \n",
    "    id_vars=[\"Open Year\", \"City\", \"geometry\"],\n",
    "    value_vars=[\"Count\"],\n",
    "    value_name=\"Value\", \n",
    "    var_name=\"Type\"\n",
    ")\n",
    "\n",
    "station_year\n",
    "\n",
    "station_year['Open Year'] = station_year['Open Year'].astype(int)"
   ]
  },
  {
   "cell_type": "code",
   "execution_count": null,
   "id": "aa727ae0",
   "metadata": {},
   "outputs": [],
   "source": [
    "station_year_df = station_year.groupby(['Open Year'])['Value'].size().reset_index(name='n')\n",
    "station_year_df\n",
    "\n",
    "ax = station_year_df.plot.bar(x='Open Year', y='n', rot=0, color='#5ebaff')\n",
    "plt.xticks(rotation = 45)\n",
    "plt.title(\"Count of New Stations By Year in California\", fontsize=10)\n",
    "plt.show()"
   ]
  }
 ],
 "metadata": {
  "kernelspec": {
   "display_name": "Python 3 (ipykernel)",
   "language": "python",
   "name": "python3"
  },
  "language_info": {
   "codemirror_mode": {
    "name": "ipython",
    "version": 3
   },
   "file_extension": ".py",
   "mimetype": "text/x-python",
   "name": "python",
   "nbconvert_exporter": "python",
   "pygments_lexer": "ipython3",
   "version": "3.9.13"
  }
 },
 "nbformat": 4,
 "nbformat_minor": 5
}
